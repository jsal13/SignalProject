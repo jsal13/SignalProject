{
 "cells": [
  {
   "cell_type": "code",
   "execution_count": 1,
   "metadata": {},
   "outputs": [],
   "source": [
    "import numpy as np\n",
    "import pandas as pd\n",
    "import altair as alt\n",
    "\n",
    "import psycopg2"
   ]
  },
  {
   "cell_type": "code",
   "execution_count": 2,
   "metadata": {},
   "outputs": [],
   "source": [
    "conn = psycopg2.connect(\n",
    "    database=\"postgres\", \n",
    "    user=\"postgres\", \n",
    "    password=\"x\", \n",
    "    host=\"localhost\"\n",
    ")"
   ]
  },
  {
   "cell_type": "code",
   "execution_count": 5,
   "metadata": {},
   "outputs": [
    {
     "data": {
      "text/html": [
       "\n",
       "<div id=\"altair-viz-9fb9156b9adc4c749edd62e74039b1a1\"></div>\n",
       "<script type=\"text/javascript\">\n",
       "  var VEGA_DEBUG = (typeof VEGA_DEBUG == \"undefined\") ? {} : VEGA_DEBUG;\n",
       "  (function(spec, embedOpt){\n",
       "    let outputDiv = document.currentScript.previousElementSibling;\n",
       "    if (outputDiv.id !== \"altair-viz-9fb9156b9adc4c749edd62e74039b1a1\") {\n",
       "      outputDiv = document.getElementById(\"altair-viz-9fb9156b9adc4c749edd62e74039b1a1\");\n",
       "    }\n",
       "    const paths = {\n",
       "      \"vega\": \"https://cdn.jsdelivr.net/npm//vega@5?noext\",\n",
       "      \"vega-lib\": \"https://cdn.jsdelivr.net/npm//vega-lib?noext\",\n",
       "      \"vega-lite\": \"https://cdn.jsdelivr.net/npm//vega-lite@4.17.0?noext\",\n",
       "      \"vega-embed\": \"https://cdn.jsdelivr.net/npm//vega-embed@6?noext\",\n",
       "    };\n",
       "\n",
       "    function maybeLoadScript(lib, version) {\n",
       "      var key = `${lib.replace(\"-\", \"\")}_version`;\n",
       "      return (VEGA_DEBUG[key] == version) ?\n",
       "        Promise.resolve(paths[lib]) :\n",
       "        new Promise(function(resolve, reject) {\n",
       "          var s = document.createElement('script');\n",
       "          document.getElementsByTagName(\"head\")[0].appendChild(s);\n",
       "          s.async = true;\n",
       "          s.onload = () => {\n",
       "            VEGA_DEBUG[key] = version;\n",
       "            return resolve(paths[lib]);\n",
       "          };\n",
       "          s.onerror = () => reject(`Error loading script: ${paths[lib]}`);\n",
       "          s.src = paths[lib];\n",
       "        });\n",
       "    }\n",
       "\n",
       "    function showError(err) {\n",
       "      outputDiv.innerHTML = `<div class=\"error\" style=\"color:red;\">${err}</div>`;\n",
       "      throw err;\n",
       "    }\n",
       "\n",
       "    function displayChart(vegaEmbed) {\n",
       "      vegaEmbed(outputDiv, spec, embedOpt)\n",
       "        .catch(err => showError(`Javascript Error: ${err.message}<br>This usually means there's a typo in your chart specification. See the javascript console for the full traceback.`));\n",
       "    }\n",
       "\n",
       "    if(typeof define === \"function\" && define.amd) {\n",
       "      requirejs.config({paths});\n",
       "      require([\"vega-embed\"], displayChart, err => showError(`Error loading script: ${err.message}`));\n",
       "    } else {\n",
       "      maybeLoadScript(\"vega\", \"5\")\n",
       "        .then(() => maybeLoadScript(\"vega-lite\", \"4.17.0\"))\n",
       "        .then(() => maybeLoadScript(\"vega-embed\", \"6\"))\n",
       "        .catch(showError)\n",
       "        .then(() => displayChart(vegaEmbed));\n",
       "    }\n",
       "  })({\"config\": {\"view\": {\"continuousWidth\": 400, \"continuousHeight\": 300}}, \"data\": {\"name\": \"data-f4481cd4b26ef21b0fa35b5c1b0cfbe5\"}, \"mark\": \"line\", \"encoding\": {\"color\": {\"field\": \"sensor\", \"type\": \"nominal\"}, \"x\": {\"field\": \"datetime\", \"type\": \"temporal\"}, \"y\": {\"field\": \"value\", \"type\": \"quantitative\"}}, \"selection\": {\"selector003\": {\"type\": \"interval\", \"bind\": \"scales\", \"encodings\": [\"x\", \"y\"]}}, \"$schema\": \"https://vega.github.io/schema/vega-lite/v4.17.0.json\", \"datasets\": {\"data-f4481cd4b26ef21b0fa35b5c1b0cfbe5\": [{\"id\": 1, \"datetime\": \"2022-01-02T19:07:41.436300\", \"sensor\": 1, \"value\": 29.707}, {\"id\": 2, \"datetime\": \"2022-01-02T19:07:41.449583\", \"sensor\": 2, \"value\": 43.012}, {\"id\": 4, \"datetime\": \"2022-01-02T19:07:44.461392\", \"sensor\": 1, \"value\": 56.595}, {\"id\": 5, \"datetime\": \"2022-01-02T19:07:44.462728\", \"sensor\": 2, \"value\": 177.821}, {\"id\": 7, \"datetime\": \"2022-01-02T19:07:47.473812\", \"sensor\": 1, \"value\": 52.992}, {\"id\": 8, \"datetime\": \"2022-01-02T19:07:47.475069\", \"sensor\": 2, \"value\": 99.105}, {\"id\": 10, \"datetime\": \"2022-01-02T19:07:50.484332\", \"sensor\": 1, \"value\": 54.341}, {\"id\": 11, \"datetime\": \"2022-01-02T19:07:50.486122\", \"sensor\": 2, \"value\": 97.667}, {\"id\": 13, \"datetime\": \"2022-01-02T19:07:53.494726\", \"sensor\": 1, \"value\": 90.363}, {\"id\": 14, \"datetime\": \"2022-01-02T19:07:53.496169\", \"sensor\": 2, \"value\": 185.709}, {\"id\": 16, \"datetime\": \"2022-01-02T19:07:56.505233\", \"sensor\": 1, \"value\": 52.026}, {\"id\": 17, \"datetime\": \"2022-01-02T19:07:56.506917\", \"sensor\": 2, \"value\": 97.113}, {\"id\": 19, \"datetime\": \"2022-01-02T19:07:59.513676\", \"sensor\": 1, \"value\": 58.587}, {\"id\": 20, \"datetime\": \"2022-01-02T19:07:59.514848\", \"sensor\": 2, \"value\": 99.417}, {\"id\": 22, \"datetime\": \"2022-01-02T19:08:02.523272\", \"sensor\": 1, \"value\": 46.262}, {\"id\": 23, \"datetime\": \"2022-01-02T19:08:02.524443\", \"sensor\": 2, \"value\": 95.533}, {\"id\": 25, \"datetime\": \"2022-01-02T19:08:05.534445\", \"sensor\": 1, \"value\": 64.602}, {\"id\": 26, \"datetime\": \"2022-01-02T19:08:05.535761\", \"sensor\": 2, \"value\": 125.534}, {\"id\": 28, \"datetime\": \"2022-01-02T19:08:08.544661\", \"sensor\": 1, \"value\": 50.293}, {\"id\": 29, \"datetime\": \"2022-01-02T19:08:08.546213\", \"sensor\": 2, \"value\": 125.752}, {\"id\": 31, \"datetime\": \"2022-01-02T19:08:11.555236\", \"sensor\": 1, \"value\": 32.169}, {\"id\": 32, \"datetime\": \"2022-01-02T19:08:11.556384\", \"sensor\": 2, \"value\": 65.871}, {\"id\": 34, \"datetime\": \"2022-01-02T19:08:14.566212\", \"sensor\": 1, \"value\": 28.198}, {\"id\": 35, \"datetime\": \"2022-01-02T19:08:14.567369\", \"sensor\": 2, \"value\": 66.369}, {\"id\": 37, \"datetime\": \"2022-01-02T19:08:17.578642\", \"sensor\": 1, \"value\": 56.464}, {\"id\": 38, \"datetime\": \"2022-01-02T19:08:17.580078\", \"sensor\": 2, \"value\": 108.409}, {\"id\": 40, \"datetime\": \"2022-01-02T19:08:20.593270\", \"sensor\": 1, \"value\": 47.751}, {\"id\": 41, \"datetime\": \"2022-01-02T19:08:20.596020\", \"sensor\": 2, \"value\": 93.507}, {\"id\": 43, \"datetime\": \"2022-01-02T19:08:23.614161\", \"sensor\": 1, \"value\": 56.277}, {\"id\": 44, \"datetime\": \"2022-01-02T19:08:23.615295\", \"sensor\": 2, \"value\": 111.766}, {\"id\": 46, \"datetime\": \"2022-01-02T19:08:26.635474\", \"sensor\": 1, \"value\": 57.393}, {\"id\": 47, \"datetime\": \"2022-01-02T19:08:26.637165\", \"sensor\": 2, \"value\": 108.931}, {\"id\": 49, \"datetime\": \"2022-01-02T19:08:29.650653\", \"sensor\": 1, \"value\": 58.929}, {\"id\": 50, \"datetime\": \"2022-01-02T19:08:29.652069\", \"sensor\": 2, \"value\": 138.299}, {\"id\": 52, \"datetime\": \"2022-01-02T19:08:32.661049\", \"sensor\": 1, \"value\": 38.869}, {\"id\": 53, \"datetime\": \"2022-01-02T19:08:32.662272\", \"sensor\": 2, \"value\": 76.317}, {\"id\": 55, \"datetime\": \"2022-01-02T19:08:35.670613\", \"sensor\": 1, \"value\": 51.406}, {\"id\": 56, \"datetime\": \"2022-01-02T19:08:35.672077\", \"sensor\": 2, \"value\": 89.22}, {\"id\": 58, \"datetime\": \"2022-01-02T19:08:38.681745\", \"sensor\": 1, \"value\": 60.724}, {\"id\": 59, \"datetime\": \"2022-01-02T19:08:38.682916\", \"sensor\": 2, \"value\": 125.557}, {\"id\": 61, \"datetime\": \"2022-01-02T19:08:41.694674\", \"sensor\": 1, \"value\": 37.854}, {\"id\": 62, \"datetime\": \"2022-01-02T19:08:41.695853\", \"sensor\": 2, \"value\": 73.905}]}}, {\"mode\": \"vega-lite\"});\n",
       "</script>"
      ],
      "text/plain": [
       "alt.Chart(...)"
      ]
     },
     "execution_count": 5,
     "metadata": {},
     "output_type": "execute_result"
    }
   ],
   "source": [
    "query = \"select * from signals where sensor != 3\"\n",
    "\n",
    "results = pd.read_sql(sql=query, con=conn)\n",
    "\n",
    "c = alt.Chart(results).mark_line().encode(\n",
    "    x=\"datetime:T\",\n",
    "    y=\"value:Q\",\n",
    "    color=\"sensor:N\"\n",
    ")\n",
    "c.interactive()"
   ]
  },
  {
   "cell_type": "code",
   "execution_count": null,
   "metadata": {},
   "outputs": [],
   "source": []
  },
  {
   "cell_type": "code",
   "execution_count": null,
   "metadata": {},
   "outputs": [],
   "source": []
  }
 ],
 "metadata": {
  "interpreter": {
   "hash": "e11000886ad152da1101dfb9c9d2832bfbe8a88214116c653d5383f366761385"
  },
  "kernelspec": {
   "display_name": "Python 3.9.5 64-bit ('sensor-BhbOVgqS-py3.9': poetry)",
   "language": "python",
   "name": "python3"
  },
  "language_info": {
   "codemirror_mode": {
    "name": "ipython",
    "version": 3
   },
   "file_extension": ".py",
   "mimetype": "text/x-python",
   "name": "python",
   "nbconvert_exporter": "python",
   "pygments_lexer": "ipython3",
   "version": "3.9.5"
  },
  "orig_nbformat": 4
 },
 "nbformat": 4,
 "nbformat_minor": 2
}
